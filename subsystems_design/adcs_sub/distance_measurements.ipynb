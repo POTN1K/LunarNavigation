{
 "cells": [
  {
   "cell_type": "code",
   "execution_count": null,
   "outputs": [],
   "source": [
    "# By N. Ricker"
   ],
   "metadata": {
    "collapsed": false
   }
  },
  {
   "cell_type": "code",
   "execution_count": 86,
   "outputs": [],
   "source": [
    "import numpy as np\n",
    "import pandas as pd"
   ],
   "metadata": {
    "collapsed": false
   }
  },
  {
   "cell_type": "code",
   "execution_count": 87,
   "id": "1ba74146",
   "metadata": {},
   "outputs": [],
   "source": [
    "df = pd.read_csv('Coordinates_in_time.csv', header=None)"
   ]
  },
  {
   "cell_type": "code",
   "execution_count": 88,
   "id": "c4dd78a0",
   "metadata": {},
   "outputs": [],
   "source": [
    "# Drop time\n",
    "df.drop(columns=0, inplace=True)"
   ]
  },
  {
   "cell_type": "code",
   "execution_count": 89,
   "id": "0a5c07ec",
   "metadata": {},
   "outputs": [],
   "source": [
    "# Velocity columns / Drop\n",
    "erase_indices = np.array([[i,i+1,i+2] for i in range(4,df.shape[1],6 )]).flatten()\n",
    "df.drop(columns=erase_indices, inplace=True)"
   ]
  },
  {
   "cell_type": "code",
   "execution_count": 90,
   "id": "69a14964",
   "metadata": {},
   "outputs": [],
   "source": [
    "# Time steps to keep\n",
    "keep = np.arange(3, df.shape[0], 10)\n",
    "clean_df = df.loc[keep]"
   ]
  },
  {
   "cell_type": "code",
   "execution_count": 61,
   "id": "b3504d31",
   "metadata": {},
   "outputs": [],
   "source": [
    "# Reset index (unnecesary)\n",
    "clean_df=clean_df.reset_index().drop(columns='index')"
   ]
  },
  {
   "cell_type": "code",
   "execution_count": 91,
   "id": "a33dd86e",
   "metadata": {},
   "outputs": [],
   "source": [
    "# Separate satellites\n",
    "sat = np.array([clean_df[[i, i+1, i+2]].to_numpy() for i in range(1, 93*2, 6)])"
   ]
  },
  {
   "cell_type": "code",
   "execution_count": 92,
   "id": "4a366025",
   "metadata": {},
   "outputs": [
    {
     "data": {
      "text/plain": [
       "(31, 9072, 3)"
      ]
     },
     "execution_count": 92,
     "metadata": {},
     "output_type": "execute_result"
    }
   ],
   "source": [
    "sat.shape"
   ]
  },
  {
   "cell_type": "code",
   "execution_count": 128,
   "id": "722e6074",
   "metadata": {},
   "outputs": [],
   "source": [
    "def Insight(plane):\n",
    "    \"\"\"Calculate the relative distance between the satellites in the orbit plane and the x, y and z components of their relative distance. \n",
    "    Then, compute the perpendicular distance between the Moon center and relative satellite distance. If it is higher than the Moon radius, then the satellites are in sight, if not, they aren't.\"\"\"\n",
    "\n",
    "    total_d = []\n",
    "    for i in range(len(plane)):\n",
    "        _ = (plane[i] - plane[(i + 1) % len(plane)])\n",
    "        dist = np.linalg.norm(_, axis=1)\n",
    "        total_d.append(dist)\n",
    "    return np.max(total_d)"
   ]
  },
  {
   "cell_type": "code",
   "execution_count": 131,
   "id": "565e4f0e",
   "metadata": {},
   "outputs": [],
   "source": [
    "plane1 = sat[0:2]\n",
    "plane2 = sat[2:4]"
   ]
  },
  {
   "cell_type": "code",
   "execution_count": 147,
   "id": "f640fc34",
   "metadata": {},
   "outputs": [],
   "source": [
    "def OutOfPlaneDistance(plane_a, plane_b):\n",
    "    max_dist = 0\n",
    "    for sata in plane_a:\n",
    "        tdist = []\n",
    "        for satb in plane_b:\n",
    "            dist = np.linalg.norm(sata-satb, axis=1)\n",
    "            tdist.append(dist)\n",
    "        _ = np.max(np.min(tdist, axis=0))\n",
    "        if _ > max_dist:\n",
    "            max_dist = _\n",
    "    return max_dist"
   ]
  },
  {
   "cell_type": "code",
   "execution_count": null,
   "id": "2dd905b4",
   "metadata": {},
   "outputs": [],
   "source": []
  }
 ],
 "metadata": {
  "kernelspec": {
   "display_name": "JupyterEnv",
   "language": "python",
   "name": "jupyterenv"
  },
  "language_info": {
   "codemirror_mode": {
    "name": "ipython",
    "version": 3
   },
   "file_extension": ".py",
   "mimetype": "text/x-python",
   "name": "python",
   "nbconvert_exporter": "python",
   "pygments_lexer": "ipython3",
   "version": "3.9.12"
  }
 },
 "nbformat": 4,
 "nbformat_minor": 5
}
