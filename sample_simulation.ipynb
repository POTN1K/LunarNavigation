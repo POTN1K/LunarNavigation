{
 "cells": [
  {
   "attachments": {},
   "cell_type": "markdown",
   "id": "5d7685e7",
   "metadata": {},
   "source": [
    "# Orbit Propagation Test"
   ]
  },
  {
   "cell_type": "code",
   "execution_count": 17,
   "id": "a3e8e810",
   "metadata": {},
   "outputs": [],
   "source": [
    "# Load tudatpy modules\n",
    "from tudatpy.kernel.interface import spice\n",
    "from tudatpy.kernel import numerical_simulation\n",
    "from tudatpy.kernel.numerical_simulation import environment_setup, propagation_setup\n",
    "from tudatpy.kernel.astro import element_conversion\n",
    "from tudatpy.kernel import constants\n",
    "from tudatpy.util import result2array"
   ]
  },
  {
   "cell_type": "code",
   "execution_count": 18,
   "id": "0bae72cb",
   "metadata": {},
   "outputs": [],
   "source": [
    "# Load other libraries\n",
    "import numpy as np\n",
    "import matplotlib.pyplot as plt"
   ]
  },
  {
   "cell_type": "code",
   "execution_count": 19,
   "id": "54b7e52c",
   "metadata": {},
   "outputs": [],
   "source": [
    "# Load spice kernels\n",
    "spice.load_standard_kernels()"
   ]
  },
  {
   "attachments": {},
   "cell_type": "markdown",
   "id": "0ea8f35b",
   "metadata": {},
   "source": [
    "## Environment Setup"
   ]
  },
  {
   "cell_type": "code",
   "execution_count": 20,
   "id": "306185f6",
   "metadata": {},
   "outputs": [],
   "source": [
    "# Add Celestial bodies\n",
    "bodies_to_create = [\"Earth\", \"Moon\"]\n",
    "global_frame_origin = \"Moon\"\n",
    "global_frame_orientation = \"J2000\"\n",
    "body_settings = environment_setup.get_default_body_settings(bodies_to_create, global_frame_origin, global_frame_orientation)"
   ]
  },
  {
   "cell_type": "code",
   "execution_count": 21,
   "id": "f00f75f2",
   "metadata": {},
   "outputs": [],
   "source": [
    "# Create system of bodies\n",
    "bodies = environment_setup.create_system_of_bodies(body_settings)"
   ]
  },
  {
   "cell_type": "code",
   "execution_count": 22,
   "id": "96bd48ea",
   "metadata": {},
   "outputs": [],
   "source": [
    "# Add vehicle object to system of bodies\n",
    "bodies.create_empty_body( \"Vehicle\" )\n",
    "# Change parameters of Vehicle\n",
    "bodies.get_body( \"Vehicle\" ).mass = 1000.0"
   ]
  },
  {
   "attachments": {},
   "cell_type": "markdown",
   "id": "e9968225",
   "metadata": {},
   "source": [
    "## Propagation Setup"
   ]
  },
  {
   "cell_type": "code",
   "execution_count": 23,
   "id": "c10fe304",
   "metadata": {},
   "outputs": [],
   "source": [
    "# Define propagation\n",
    "bodies_to_propagate = [\"Vehicle\"]\n",
    "central_bodies = [\"Moon\"]"
   ]
  },
  {
   "cell_type": "code",
   "execution_count": 25,
   "id": "845deb41",
   "metadata": {},
   "outputs": [],
   "source": [
    "# Define accelerations acting on Vehicle\n",
    "acceleration_settings_vehicle = dict(\n",
    "    Moon=[propagation_setup.acceleration.spherical_harmonic_gravity(4, 0)],\n",
    "    Earth=[propagation_setup.acceleration.point_mass_gravity()])\n",
    "acceleration_settings = {\"Vehicle\": acceleration_settings_vehicle}"
   ]
  },
  {
   "cell_type": "code",
   "execution_count": 26,
   "id": "7a996c3b",
   "metadata": {},
   "outputs": [],
   "source": [
    "# Create acceleration models\n",
    "acceleration_models = propagation_setup.create_acceleration_models(bodies, acceleration_settings, bodies_to_propagate, central_bodies)"
   ]
  },
  {
   "cell_type": "code",
   "execution_count": 34,
   "id": "8a30b6d7",
   "metadata": {},
   "outputs": [
    {
     "data": {
      "text/plain": [
       "array([1000000.        ,       0.        ,       0.        ,\n",
       "            -0.        ,    2711.86286209,       0.        ])"
      ]
     },
     "execution_count": 34,
     "metadata": {},
     "output_type": "execute_result"
    }
   ],
   "source": [
    "# Set initial conditions for the Vehicle that will be propagated in this simulation.\n",
    "# The initial conditions are given in Keplerian elements and later on converted to Cartesian elements. Use SI units.\n",
    "moon_gravitational_parameter = bodies.get(\"Moon\").gravitational_parameter\n",
    "\n",
    "initial_state = element_conversion.keplerian_to_cartesian_elementwise(\n",
    "    gravitational_parameter=moon_gravitational_parameter,\n",
    "    semi_major_axis=2000e3,\n",
    "    eccentricity=0.5,\n",
    "    inclination=np.deg2rad(0),\n",
    "    argument_of_periapsis=np.deg2rad(0),\n",
    "    longitude_of_ascending_node=np.deg2rad(0),\n",
    "    true_anomaly=np.deg2rad(0),\n",
    ")\n",
    "\n",
    "initial_state"
   ]
  },
  {
   "cell_type": "code",
   "execution_count": 37,
   "id": "3f911e5a",
   "metadata": {},
   "outputs": [],
   "source": [
    "# Define time settings\n",
    "simulation_start_epoch = 0.0\n",
    "simulation_end_epoch = 5*3600.0"
   ]
  },
  {
   "cell_type": "code",
   "execution_count": 38,
   "id": "399773f5",
   "metadata": {},
   "outputs": [],
   "source": [
    "# Integration settings\n",
    "integrator_settings = propagation_setup.integrator.runge_kutta_4(2.0) # Step size is 2 seconds\n",
    "termination_settings = propagation_setup.propagator.time_termination(simulation_end_epoch)\n",
    "dependent_variables_to_save = [propagation_setup.dependent_variable.total_acceleration(\"Vehicle\")]\n",
    "\n",
    "propagator_settings = propagation_setup.propagator.translational(\n",
    "    central_bodies,\n",
    "    acceleration_models,\n",
    "    bodies_to_propagate,\n",
    "    initial_state,\n",
    "    simulation_start_epoch,\n",
    "    integrator_settings,\n",
    "    termination_settings,\n",
    "    output_variables=dependent_variables_to_save\n",
    ")"
   ]
  },
  {
   "attachments": {},
   "cell_type": "markdown",
   "id": "a14e4416",
   "metadata": {},
   "source": [
    "## Propagation Dynamics"
   ]
  },
  {
   "cell_type": "code",
   "execution_count": 39,
   "id": "6e5e718c",
   "metadata": {},
   "outputs": [],
   "source": [
    "# Create simulation object and propagate dynamics.\n",
    "dynamics_simulator = numerical_simulation.create_dynamics_simulator(bodies, propagator_settings)\n",
    "results = dynamics_simulator.propagation_results"
   ]
  },
  {
   "cell_type": "code",
   "execution_count": 40,
   "id": "a715f2e8",
   "metadata": {},
   "outputs": [
    {
     "data": {
      "text/plain": [
       "array([[ 0.00000000e+00,  1.00000000e+06,  0.00000000e+00, ...,\n",
       "        -0.00000000e+00,  2.71186286e+03,  0.00000000e+00],\n",
       "       [ 2.00000000e+00,  9.99990184e+05,  5.42370749e+03, ...,\n",
       "        -9.81608070e+00,  2.71183575e+03,  1.12984826e-03],\n",
       "       [ 4.00000000e+00,  9.99960736e+05,  1.08473075e+04, ...,\n",
       "        -1.96316667e+01,  2.71175538e+03,  2.30922583e-03],\n",
       "       ...,\n",
       "       [ 1.79960000e+04, -1.84160625e+06,  1.56199879e+06, ...,\n",
       "        -1.17426120e+03, -4.76554836e+02,  3.00444004e+00],\n",
       "       [ 1.79980000e+04, -1.84395349e+06,  1.56104459e+06, ...,\n",
       "        -1.17297880e+03, -4.77641579e+02,  3.00045952e+00],\n",
       "       [ 1.80000000e+04, -1.84629817e+06,  1.56008822e+06, ...,\n",
       "        -1.17169664e+03, -4.78726077e+02,  2.99648039e+00]])"
      ]
     },
     "execution_count": 40,
     "metadata": {},
     "output_type": "execute_result"
    }
   ],
   "source": [
    "# Value Results\n",
    "states = result2array(results.state_history)\n",
    "states"
   ]
  },
  {
   "cell_type": "code",
   "execution_count": 41,
   "id": "b0b46ffc",
   "metadata": {},
   "outputs": [],
   "source": [
    "# Define the radius of the sphere\n",
    "r = 1737.4e3\n",
    "\n",
    "# Define the angles for the phi and theta parameters\n",
    "phi = np.linspace(0, 2 * np.pi, 20)\n",
    "theta = np.linspace(0, np.pi, 20)\n",
    "\n",
    "# Create a meshgrid of phi and theta values\n",
    "phi, theta = np.meshgrid(phi, theta)\n",
    "\n",
    "# Calculate the x, y, and z coordinates for each point on the sphere\n",
    "xM = r * np.sin(theta) * np.cos(phi)\n",
    "yM = r * np.sin(theta) * np.sin(phi)\n",
    "zM = r * np.cos(theta)"
   ]
  },
  {
   "cell_type": "code",
   "execution_count": 42,
   "id": "7142d6d9",
   "metadata": {},
   "outputs": [],
   "source": [
    "%matplotlib qt\n",
    "\n",
    "# Define a 3D figure using pyplot\n",
    "fig = plt.figure(figsize=(6,6), dpi=125)\n",
    "ax = fig.add_subplot(111, projection='3d')\n",
    "\n",
    "# Plot the positional state history\n",
    "ax.plot(states[:, 1], states[:, 2], states[:, 3], label=bodies_to_propagate[0], linestyle='-.')\n",
    "ax.plot_surface(xM, yM, zM, color='gray', alpha=0.5)\n",
    "ax.scatter(0.0, 0.0, 0.0, label=\"Moon\", marker='o', color='gray')\n",
    "\n",
    "# Add the legend and labels, then show the plot\n",
    "ax.legend()\n",
    "ax.set_xlabel('x [m]')\n",
    "ax.set_ylabel('y [m]')\n",
    "ax.set_zlabel('z [m]')\n",
    "ax.axis('equal')\n",
    "plt.show()"
   ]
  },
  {
   "cell_type": "code",
   "execution_count": null,
   "id": "98e0d286",
   "metadata": {},
   "outputs": [],
   "source": []
  }
 ],
 "metadata": {
  "kernelspec": {
   "display_name": "tudat-space",
   "language": "python",
   "name": "python3"
  },
  "language_info": {
   "codemirror_mode": {
    "name": "ipython",
    "version": 3
   },
   "file_extension": ".py",
   "mimetype": "text/x-python",
   "name": "python",
   "nbconvert_exporter": "python",
   "pygments_lexer": "ipython3",
   "version": "3.10.10"
  }
 },
 "nbformat": 4,
 "nbformat_minor": 5
}
